{
 "cells": [
  {
   "cell_type": "markdown",
   "metadata": {},
   "source": [
    "# PyXstar: a preliminary blueprint\n",
    "\n",
    "## 1. Introduction\n",
    "\n",
    "${\\tt PyXstar}$ is a Python-module prototype devised to run the XSTAR spectral modeling code in different computing environments and to access and manipulate its output data contained in ${\\tt fits}$ files. ${\\tt PyXstar}$ can be used to run XSTAR locally following Heasoft installation; it imports the ${\\tt Astropy}$ and ${\\tt Matplotlib}$ packages that must be installed beforehand. Regarding output processing, there is nothing clever about this function library as they just perform access tasks; that is, further methods and utitlities to obtain useful information and displays from these datasets. It makes ample use of the ${\\tt pyfits}$ Python module. The present notebook gives a quick outline of a preliminary version of its design blueprint to get internal feedback. "
   ]
  },
  {
   "cell_type": "markdown",
   "metadata": {},
   "source": [
    "## 2. Module loading"
   ]
  },
  {
   "cell_type": "markdown",
   "metadata": {},
   "source": [
    "As shown in the cell below, the ${\\tt PyXstar}$ module is loaded in the usual manner with the ${\\tt import}$ command, its functions being identified henceforth with the ${\\tt px}$ prefix. "
   ]
  },
  {
   "cell_type": "code",
   "execution_count": 11,
   "metadata": {},
   "outputs": [],
   "source": [
    "# Import PyXstar Python module\n",
    "import pyxstar as px"
   ]
  },
  {
   "cell_type": "markdown",
   "metadata": {},
   "source": [
    "## 3. Running XSTAR after a Local Heasoft Installation\n",
    "\n",
    "XSTAR is usually installed locally through the procedures specified by [HEAsoft](https://heasarc.gsfc.nasa.gov/lheasoft/), which enable the running of XSTAR by just typing the command ${\\tt xstar}$ from any directory in the local disk file structure. The default ${\\tt xstar.par}$ input file is read from the ${\\tt pfiles}$ subdirectory, which can be reassigned by changing the $\\${\\tt PFILES}$ environment variable. In ${\\tt PyXstar}$, the code is run through the function ${\\tt run}$_${\\tt xstar}({\\tt par,hpar})$, which reads the following two input dictionaries:\n",
    "\n",
    "* ${\\tt par}\\{\\}$ listing the physical parameters to be adjusted as required by the user;\n",
    "* ${\\tt hpar}\\{\\}$ listing hidden numerical parameters to fine-tune the numerical model. These are not to be changed by an inexperienced user.\n",
    "\n",
    "To run XSTAR through this option, please activate the cell below by clicking on it and keying the run button above. In this case, the script stores the resulting output files in the directory $./{\\tt heasoft}\\_{\\tt xstar}$. Input values and/or directory path and name may be modified at will."
   ]
  },
  {
   "cell_type": "code",
   "execution_count": 5,
   "metadata": {
    "scrolled": true
   },
   "outputs": [
    {
     "ename": "FileNotFoundError",
     "evalue": "[Errno 2] No such file or directory: '/home/idies/workspace/Temporary/0000_0002_2854_4806/scratch/heasoft_xstar'",
     "output_type": "error",
     "traceback": [
      "\u001b[0;31m---------------------------------------------------------------------------\u001b[0m",
      "\u001b[0;31mFileNotFoundError\u001b[0m                         Traceback (most recent call last)",
      "\u001b[0;32m/tmp/ipykernel_35792/1551020588.py\u001b[0m in \u001b[0;36m<module>\u001b[0;34m\u001b[0m\n\u001b[1;32m      8\u001b[0m     \u001b[0mos\u001b[0m\u001b[0;34m.\u001b[0m\u001b[0mchdir\u001b[0m\u001b[0;34m(\u001b[0m\u001b[0;34m\"/home/idies/workspace/Temporary/0000_0002_2854_4806/scratch/heasoft_xstar\"\u001b[0m\u001b[0;34m)\u001b[0m\u001b[0;34m\u001b[0m\u001b[0;34m\u001b[0m\u001b[0m\n\u001b[1;32m      9\u001b[0m \u001b[0;32melse\u001b[0m\u001b[0;34m:\u001b[0m\u001b[0;34m\u001b[0m\u001b[0;34m\u001b[0m\u001b[0m\n\u001b[0;32m---> 10\u001b[0;31m     \u001b[0mos\u001b[0m\u001b[0;34m.\u001b[0m\u001b[0mmkdir\u001b[0m\u001b[0;34m(\u001b[0m\u001b[0;34m\"/home/idies/workspace/Temporary/0000_0002_2854_4806/scratch/heasoft_xstar\"\u001b[0m\u001b[0;34m)\u001b[0m\u001b[0;34m\u001b[0m\u001b[0;34m\u001b[0m\u001b[0m\n\u001b[0m\u001b[1;32m     11\u001b[0m     \u001b[0mos\u001b[0m\u001b[0;34m.\u001b[0m\u001b[0mchdir\u001b[0m\u001b[0;34m(\u001b[0m\u001b[0;34m\"/home/idies/workspace/Temporary/0000_0002_2854_4806/scratch/heasoft_xstar\"\u001b[0m\u001b[0;34m)\u001b[0m\u001b[0;34m\u001b[0m\u001b[0;34m\u001b[0m\u001b[0m\n\u001b[1;32m     12\u001b[0m \u001b[0;34m\u001b[0m\u001b[0m\n",
      "\u001b[0;31mFileNotFoundError\u001b[0m: [Errno 2] No such file or directory: '/home/idies/workspace/Temporary/0000_0002_2854_4806/scratch/heasoft_xstar'"
     ]
    }
   ],
   "source": [
    "#Import PyXstar and os Python modules \n",
    "import pyxstar as px\n",
    "import os\n",
    "\n",
    "# Creates and moves to the directory ./heasoft_xstar \n",
    "\n",
    "if os.path.isdir(\"/home/idies/workspace/Temporary/0000_0002_2854_4806/scratch/heasoft_xstar\"):\n",
    "    os.chdir(\"/home/idies/workspace/Temporary/0000_0002_2854_4806/scratch/heasoft_xstar\")\n",
    "else:\n",
    "    os.mkdir(\"/home/idies/workspace/Temporary/0000_0002_2854_4806/scratch/heasoft_xstar\")\n",
    "    os.chdir(\"/home/idies/workspace/Temporary/0000_0002_2854_4806/scratch/heasoft_xstar\") \n",
    "\n",
    "# Input par dictionary. Assigned values may be modified as required.\n",
    "\n",
    "par = {\n",
    "\"cfrac\":        1.0,        #\"covering fraction\"\n",
    "\"temperature\":  1.0,        #\"temperature (/10**4K)\"\n",
    "\"lcpres\":       0,          #\"constant pressure switch (1=yes, 0=no)\"\n",
    "\"pressure\":     0.03,       #\"pressure (dyne/cm**2)\"\n",
    "\"density\":      1.e+20,     #\"density (cm**-3)\"\n",
    "\"spectrum\":     \"pow\",      #\"spectrum type?\"\n",
    "\"spectrum_file\":\"spct.dat\", #\"spectrum file?\"\n",
    "\"spectun\":      0,          #\"spectrum units? (0=energy, 1=photons)\"\n",
    "\"trad\":        -1.0,        #\"radiation temperature or alpha?\"\n",
    "\"rlrad38\":      1.e-6,      #\"luminosity (/10**38 erg/s)\"\n",
    "\"column\":       1.e+15,     #\"column density (cm**-2)\"\n",
    "\"rlogxi\":       1.0,        #\"log(ionization parameter) (erg cm/s)\"\n",
    "\"habund\":       1.0,        #\"hydrogen abundance\"\n",
    "\"heabund\":      1.0,        #\"helium abundance\"\n",
    "\"liabund\":      0.0,        #\"lithium abundance\"\n",
    "\"beabund\":      0.0,        #\"beryllium abundance\"\n",
    "\"babund\":       0.0,        #\"boron abundance\"\n",
    "\"cabund\":       1.0,        #\"carbon abundance\"\n",
    "\"nabund\":       1.0,        #\"nitrogen abundance\"\n",
    "\"oabund\":       1.0,        #\"oxygen abundance\"  \n",
    "\"fabund\":       0.0,        #\"fluorine abundance\"\n",
    "\"neabund\":      1.0,        #\"neon abundance\"\n",
    "\"naabund\":      0.0,        #\"sodium abundance\"\n",
    "\"mgabund\":      1.0,        #\"magnesium abundance\"\n",
    "\"alabund\":      1.0,        #\"aluminum abundance\"\n",
    "\"siabund\":      1.0,        #\"silicon abundance\"\n",
    "\"pabund\":       0.0,        #\"phosphorus abundance\"\n",
    "\"sabund\":       1.0,        #\"sulfur abundance\"\n",
    "\"clabund\":      0.0,        #\"chlorine abundance\"\n",
    "\"arabund\":      1.0,        #\"argon abundance\"\n",
    "\"kabund\":       0.0,        #\"potassium abundance\"\n",
    "\"caabund\":      1.0,        #\"calcium abundance\"\n",
    "\"scabund\":      0.0,        #\"scandium abundance\"\n",
    "\"tiabund\":      0.0,        #\"titanium abundance\"\n",
    "\"vabund\":       0.0,        #\"vanadium abundance\"\n",
    "\"crabund\":      0.0,        #\"chromium abundance\"\n",
    "\"mnabund\":      0.0,        #\"manganese abundance\"\n",
    "\"feabund\":      1.0,        #\"iron abundance\"\n",
    "\"coabund\":      0.0,        #\"cobalt abundance\"\n",
    "\"niabund\":      1.0,        #\"nickel abundance\"\n",
    "\"cuabund\":      0.0,        #\"copper abundance\"\n",
    "\"znabund\":      0.0,        #\"zinc abundance\"\n",
    "\"modelname\":\"XSTAR_Default\",#\"model name\"\n",
    "}\n",
    "\n",
    "# Input hpar dictionary. Do not modify values unless you know what you are doing.\n",
    "\n",
    "hpar = {\n",
    "\"nsteps\":     3,     #\"number of steps\"\n",
    "\"niter\":      0,     #\"number of iterations\"\n",
    "\"lwrite\":     0,     #\"write switch (1=yes, 0=no)\"\n",
    "\"lprint\":     0,     #\"print switch (1=yes, 0=no)\"\n",
    "\"lstep\":      0,     #\"step size choice switch\"\n",
    "\"emult\":      0.5,   #\"Courant multiplier\"\n",
    "\"taumax\":     5.0,   #\"tau max for courant step\"\n",
    "\"xeemin\":     0.1,   #\"minimum electron fraction\"\n",
    "\"critf\":      1.e-7, #\"critical ion abundance\"\n",
    "\"vturbi\":     1.0,   #\"turbulent velocity (km/s)\"\n",
    "\"radexp\":     0.,    #\"density distribution power law index\"\n",
    "\"ncn2\":       9999,  #\"number of continuum bins\"\n",
    "\"loopcontrol\":0,     #\"loop control (0=standalone)\"\n",
    "\"npass\":      1,     #\"number of passes\"\n",
    "\"mode\":       \"ql\"   #\"mode\"\n",
    "}\n",
    "\n",
    "# Run XSTAR\n",
    "\n",
    "px.run_xstar(par,hpar)"
   ]
  },
  {
   "cell_type": "markdown",
   "metadata": {},
   "source": [
    "## 4. Output File Loading\n",
    "\n",
    "An XSTAR model produces five output ${\\tt fits}$ files:\n",
    "\n",
    "1. ${\\tt xout}$_${\\tt abund1.fits}$: it lists plasma parameters, elemental abundances, column densities, and heating and cooling sources.\n",
    "2. ${\\tt xout}$_${\\tt lines1.fits}$: a list of spectroscopic lines with detailed line data, e.g. ion source, initial and final states, wavelengths, and intensities.\n",
    "3. ${\\tt xout}$_${\\tt rrc1.fits}$: Recombination spectrum.\n",
    "4. ${\\tt xout}$_${\\tt spect1.fits}$: Continuum spectra.\n",
    "5. ${\\tt xout}$_${\\tt cont1.fits}$: The same as item 4 but with less significant figures.\n",
    "\n",
    "We assume that files 4 and 5 list the same data, so we will only consider the former as it lists data with more significant figures (please confirm). \n",
    "\n",
    "The four fits files are accessed with the function\n",
    "$${\\tt px.LoadFiles}({\\it file1, file2, file3,file4})$$\n",
    "where the ${\\it filen}$ string arguments give the absolute/relative path and file names of the above files, namely:\n",
    "\n",
    "* ${\\it file1}$: ${\\tt '/path/out}$_${\\tt abund1.fits'}$\n",
    "* ${\\it file2}$: ${\\tt '/path/out}$_${\\tt lines1.fits'}$\n",
    "* ${\\it file3}$: ${\\tt '/path/out}$_${\\tt rrc1.fits'}$\n",
    "* ${\\it file4}$: ${\\tt '/path/out}$_${\\tt spect1.fits'}$\n",
    "\n",
    "For this demonstration these files are assumed to be located in the same directory as the present notebook, so the file loading function takes defaults. Please run the following cell to open the files."
   ]
  },
  {
   "cell_type": "code",
   "execution_count": 12,
   "metadata": {},
   "outputs": [
    {
     "name": "stdout",
     "output_type": "stream",
     "text": [
      "*** PyXstar:  ./xout_abund1.fits  not found\n"
     ]
    },
    {
     "data": {
      "text/plain": [
       "-1"
      ]
     },
     "execution_count": 12,
     "metadata": {},
     "output_type": "execute_result"
    }
   ],
   "source": [
    "import pyxstar as px\n",
    "px.LoadFiles()"
   ]
  },
  {
   "cell_type": "markdown",
   "metadata": {},
   "source": [
    "## 5. Plasma Parameters\n",
    "\n",
    "Parameters are fetched for all, ${\\tt px.NSteps}()$, plasma steps with the ${\\tt px.PlasmaParameters}()$ class that contains the following methods:\n",
    "\n",
    "* ${\\tt all}$: lists all the plasma parameters for each step in a dictionary data structure.\n",
    "* ${\\tt units}$: lists the unit of each plasma parameter in a dictionary data structure.\n",
    "* ${\\tt radius}$: gives the radial distance from the radiation source for each step in a tuple (tabulation) structure.\n",
    "* ${\\tt delta}$_${\\tt r}$: step radial width for each step (tuple).\n",
    "* ${\\tt ion}$_${\\tt parameter}$: plasma ionization parameter for each step (tuple).\n",
    "* ${\\tt x}$_${\\tt e}$: electron density of each step (tuple).\n",
    "* ${\\tt n}$_${\\tt p}$: H II density of each step (tuple).\n",
    "* ${\\tt pressure}$: pressure at each step (tuple).\n",
    "* ${\\tt temperature}$: electron temperature at each step (tuple).\n",
    "* ${\\tt frac}$_${\\tt heat}$_${\\tt error}$:\n",
    "\n",
    "Data for each individual step can be accessed with the notation ${\\tt tuplename}[{\\it i}]$ bearing in mind that in Python, in contrast to Fortran, arrays begin with 0 rather than 1. This means that data for step 1 correspond to $i=0$ (to be discussed).\n",
    "\n",
    "In the following cell we give a few examples you can run and play around with by changing attribute names or by introducing new commands."
   ]
  },
  {
   "cell_type": "code",
   "execution_count": 8,
   "metadata": {},
   "outputs": [
    {
     "ename": "NameError",
     "evalue": "name 'hdu1' is not defined",
     "output_type": "error",
     "traceback": [
      "\u001b[0;31m---------------------------------------------------------------------------\u001b[0m",
      "\u001b[0;31mNameError\u001b[0m                                 Traceback (most recent call last)",
      "\u001b[0;32m/tmp/ipykernel_35792/3958059565.py\u001b[0m in \u001b[0;36m<module>\u001b[0;34m\u001b[0m\n\u001b[0;32m----> 1\u001b[0;31m \u001b[0mprint\u001b[0m\u001b[0;34m(\u001b[0m\u001b[0mpx\u001b[0m\u001b[0;34m.\u001b[0m\u001b[0mNSteps\u001b[0m\u001b[0;34m(\u001b[0m\u001b[0;34m)\u001b[0m\u001b[0;34m)\u001b[0m\u001b[0;34m\u001b[0m\u001b[0;34m\u001b[0m\u001b[0m\n\u001b[0m\u001b[1;32m      2\u001b[0m \u001b[0ma\u001b[0m\u001b[0;34m=\u001b[0m\u001b[0mpx\u001b[0m\u001b[0;34m.\u001b[0m\u001b[0mPlasmaParameters\u001b[0m\u001b[0;34m(\u001b[0m\u001b[0;34m)\u001b[0m\u001b[0;34m\u001b[0m\u001b[0;34m\u001b[0m\u001b[0m\n\u001b[1;32m      3\u001b[0m \u001b[0mprint\u001b[0m\u001b[0;34m(\u001b[0m\u001b[0ma\u001b[0m\u001b[0;34m.\u001b[0m\u001b[0mtemperature\u001b[0m\u001b[0;34m)\u001b[0m\u001b[0;34m\u001b[0m\u001b[0;34m\u001b[0m\u001b[0m\n\u001b[1;32m      4\u001b[0m \u001b[0mprint\u001b[0m\u001b[0;34m(\u001b[0m\u001b[0ma\u001b[0m\u001b[0;34m.\u001b[0m\u001b[0mtemperature\u001b[0m\u001b[0;34m[\u001b[0m\u001b[0;36m0\u001b[0m\u001b[0;34m]\u001b[0m\u001b[0;34m)\u001b[0m\u001b[0;34m\u001b[0m\u001b[0;34m\u001b[0m\u001b[0m\n\u001b[1;32m      5\u001b[0m \u001b[0mprint\u001b[0m\u001b[0;34m(\u001b[0m\u001b[0ma\u001b[0m\u001b[0;34m.\u001b[0m\u001b[0mall\u001b[0m\u001b[0;34m[\u001b[0m\u001b[0;36m0\u001b[0m\u001b[0;34m]\u001b[0m\u001b[0;34m)\u001b[0m\u001b[0;34m\u001b[0m\u001b[0;34m\u001b[0m\u001b[0m\n",
      "\u001b[0;32m~/Documents/Work/PhD/Scripts/Python/PyXstar/pyxstar.py\u001b[0m in \u001b[0;36mNSteps\u001b[0;34m()\u001b[0m\n\u001b[1;32m    149\u001b[0m \u001b[0;32mdef\u001b[0m \u001b[0mNSteps\u001b[0m\u001b[0;34m(\u001b[0m\u001b[0;34m)\u001b[0m\u001b[0;34m:\u001b[0m\u001b[0;34m\u001b[0m\u001b[0;34m\u001b[0m\u001b[0m\n\u001b[1;32m    150\u001b[0m     \u001b[0;32mglobal\u001b[0m \u001b[0mhdu1\u001b[0m\u001b[0;34m\u001b[0m\u001b[0;34m\u001b[0m\u001b[0m\n\u001b[0;32m--> 151\u001b[0;31m     \u001b[0;32mreturn\u001b[0m \u001b[0mlen\u001b[0m\u001b[0;34m(\u001b[0m\u001b[0mhdu1\u001b[0m\u001b[0;34m[\u001b[0m\u001b[0;36m1\u001b[0m\u001b[0;34m]\u001b[0m\u001b[0;34m.\u001b[0m\u001b[0mdata\u001b[0m\u001b[0;34m)\u001b[0m\u001b[0;34m\u001b[0m\u001b[0;34m\u001b[0m\u001b[0m\n\u001b[0m\u001b[1;32m    152\u001b[0m \u001b[0;34m\u001b[0m\u001b[0m\n\u001b[1;32m    153\u001b[0m \u001b[0;32mdef\u001b[0m \u001b[0mAbundances\u001b[0m\u001b[0;34m(\u001b[0m\u001b[0mspecies\u001b[0m\u001b[0;34m)\u001b[0m\u001b[0;34m:\u001b[0m\u001b[0;34m\u001b[0m\u001b[0;34m\u001b[0m\u001b[0m\n",
      "\u001b[0;31mNameError\u001b[0m: name 'hdu1' is not defined"
     ]
    }
   ],
   "source": [
    "print(px.NSteps())\n",
    "a=px.PlasmaParameters()\n",
    "print(a.temperature)\n",
    "print(a.temperature[0])\n",
    "print(a.all[0])\n",
    "print(a.units)"
   ]
  },
  {
   "cell_type": "markdown",
   "metadata": {},
   "source": [
    "## 6. Abundances and Column Densities\n",
    "\n",
    "Chemical abundances (ionization fractions) at each plasma step are accessed with the ${\\tt px.Abundances}(species)$ function, where $species$ is a string argument (lower case) denoting an ion in XSTAR notation (e.g. o_iii) or the chemical symbol of an atom. For the latter the function tabulates in a tuple the ionization fractions of all the ions of the chosen element. Please run the following cell and try different elements and ionic species. "
   ]
  },
  {
   "cell_type": "code",
   "execution_count": 7,
   "metadata": {},
   "outputs": [
    {
     "ename": "NameError",
     "evalue": "name 'hdu1' is not defined",
     "output_type": "error",
     "traceback": [
      "\u001b[0;31m---------------------------------------------------------------------------\u001b[0m",
      "\u001b[0;31mNameError\u001b[0m                                 Traceback (most recent call last)",
      "\u001b[0;32m/tmp/ipykernel_35792/1270740998.py\u001b[0m in \u001b[0;36m<module>\u001b[0;34m\u001b[0m\n\u001b[0;32m----> 1\u001b[0;31m \u001b[0mb\u001b[0m\u001b[0;34m=\u001b[0m\u001b[0mpx\u001b[0m\u001b[0;34m.\u001b[0m\u001b[0mAbundances\u001b[0m\u001b[0;34m(\u001b[0m\u001b[0;34m'o_iii'\u001b[0m\u001b[0;34m)\u001b[0m\u001b[0;34m\u001b[0m\u001b[0;34m\u001b[0m\u001b[0m\n\u001b[0m\u001b[1;32m      2\u001b[0m \u001b[0mprint\u001b[0m\u001b[0;34m(\u001b[0m\u001b[0mb\u001b[0m\u001b[0;34m)\u001b[0m\u001b[0;34m\u001b[0m\u001b[0;34m\u001b[0m\u001b[0m\n\u001b[1;32m      3\u001b[0m \u001b[0mprint\u001b[0m\u001b[0;34m(\u001b[0m\u001b[0mb\u001b[0m\u001b[0;34m[\u001b[0m\u001b[0;36m0\u001b[0m\u001b[0;34m]\u001b[0m\u001b[0;34m)\u001b[0m\u001b[0;34m\u001b[0m\u001b[0;34m\u001b[0m\u001b[0m\n\u001b[1;32m      4\u001b[0m \u001b[0mb\u001b[0m\u001b[0;34m=\u001b[0m\u001b[0mpx\u001b[0m\u001b[0;34m.\u001b[0m\u001b[0mAbundances\u001b[0m\u001b[0;34m(\u001b[0m\u001b[0;34m'o'\u001b[0m\u001b[0;34m)\u001b[0m\u001b[0;34m\u001b[0m\u001b[0;34m\u001b[0m\u001b[0m\n\u001b[1;32m      5\u001b[0m \u001b[0mprint\u001b[0m\u001b[0;34m(\u001b[0m\u001b[0mb\u001b[0m\u001b[0;34m[\u001b[0m\u001b[0;36m0\u001b[0m\u001b[0;34m]\u001b[0m\u001b[0;34m)\u001b[0m\u001b[0;34m\u001b[0m\u001b[0;34m\u001b[0m\u001b[0m\n",
      "\u001b[0;32m~/Documents/Work/PhD/Scripts/Python/PyXstar/pyxstar.py\u001b[0m in \u001b[0;36mAbundances\u001b[0;34m(species)\u001b[0m\n\u001b[1;32m    164\u001b[0m     \u001b[0;32mif\u001b[0m \u001b[0mspecies\u001b[0m\u001b[0;34m.\u001b[0m\u001b[0mfind\u001b[0m\u001b[0;34m(\u001b[0m\u001b[0;34m'_'\u001b[0m\u001b[0;34m)\u001b[0m \u001b[0;34m>=\u001b[0m \u001b[0;36m0\u001b[0m\u001b[0;34m:\u001b[0m\u001b[0;34m\u001b[0m\u001b[0;34m\u001b[0m\u001b[0m\n\u001b[1;32m    165\u001b[0m         \u001b[0;32mfor\u001b[0m \u001b[0mi\u001b[0m \u001b[0;32min\u001b[0m \u001b[0mrange\u001b[0m\u001b[0;34m(\u001b[0m\u001b[0;36m9\u001b[0m\u001b[0;34m,\u001b[0m\u001b[0;36m474\u001b[0m\u001b[0;34m)\u001b[0m\u001b[0;34m:\u001b[0m\u001b[0;34m\u001b[0m\u001b[0;34m\u001b[0m\u001b[0m\n\u001b[0;32m--> 166\u001b[0;31m             \u001b[0;32mif\u001b[0m \u001b[0mspecies\u001b[0m \u001b[0;34m==\u001b[0m \u001b[0mhdu1\u001b[0m\u001b[0;34m[\u001b[0m\u001b[0;36m1\u001b[0m\u001b[0;34m]\u001b[0m\u001b[0;34m.\u001b[0m\u001b[0mheader\u001b[0m\u001b[0;34m[\u001b[0m\u001b[0;34m'TTYPE'\u001b[0m\u001b[0;34m+\u001b[0m\u001b[0mstr\u001b[0m\u001b[0;34m(\u001b[0m\u001b[0mi\u001b[0m\u001b[0;34m)\u001b[0m\u001b[0;34m]\u001b[0m\u001b[0;34m:\u001b[0m\u001b[0;34m\u001b[0m\u001b[0;34m\u001b[0m\u001b[0m\n\u001b[0m\u001b[1;32m    167\u001b[0m                 \u001b[0mfrac\u001b[0m\u001b[0;34m=\u001b[0m\u001b[0;34m[\u001b[0m\u001b[0;34m]\u001b[0m\u001b[0;34m\u001b[0m\u001b[0;34m\u001b[0m\u001b[0m\n\u001b[1;32m    168\u001b[0m                 \u001b[0;32mfor\u001b[0m \u001b[0mk\u001b[0m \u001b[0;32min\u001b[0m \u001b[0mrange\u001b[0m\u001b[0;34m(\u001b[0m\u001b[0mlen\u001b[0m\u001b[0;34m(\u001b[0m\u001b[0mhdu1\u001b[0m\u001b[0;34m[\u001b[0m\u001b[0;36m1\u001b[0m\u001b[0;34m]\u001b[0m\u001b[0;34m.\u001b[0m\u001b[0mdata\u001b[0m\u001b[0;34m)\u001b[0m\u001b[0;34m)\u001b[0m\u001b[0;34m:\u001b[0m\u001b[0;34m\u001b[0m\u001b[0;34m\u001b[0m\u001b[0m\n",
      "\u001b[0;31mNameError\u001b[0m: name 'hdu1' is not defined"
     ]
    }
   ],
   "source": [
    "b=px.Abundances('o_iii')\n",
    "print(b)\n",
    "print(b[0])\n",
    "b=px.Abundances('o')\n",
    "print(b[0])"
   ]
  },
  {
   "cell_type": "markdown",
   "metadata": {},
   "source": [
    "In a similar manner column densities (for an ion or atom) are fetched with the ${\\tt px.Columns}(species)$ function. Please run the cell below and try different options.  "
   ]
  },
  {
   "cell_type": "code",
   "execution_count": 6,
   "metadata": {},
   "outputs": [
    {
     "ename": "NameError",
     "evalue": "name 'hdu1' is not defined",
     "output_type": "error",
     "traceback": [
      "\u001b[0;31m---------------------------------------------------------------------------\u001b[0m",
      "\u001b[0;31mNameError\u001b[0m                                 Traceback (most recent call last)",
      "\u001b[0;32m/tmp/ipykernel_35792/1506521879.py\u001b[0m in \u001b[0;36m<module>\u001b[0;34m\u001b[0m\n\u001b[0;32m----> 1\u001b[0;31m \u001b[0mc\u001b[0m\u001b[0;34m=\u001b[0m\u001b[0mpx\u001b[0m\u001b[0;34m.\u001b[0m\u001b[0mColumns\u001b[0m\u001b[0;34m(\u001b[0m\u001b[0;34m'o_iii'\u001b[0m\u001b[0;34m)\u001b[0m\u001b[0;34m\u001b[0m\u001b[0;34m\u001b[0m\u001b[0m\n\u001b[0m\u001b[1;32m      2\u001b[0m \u001b[0mprint\u001b[0m\u001b[0;34m(\u001b[0m\u001b[0mc\u001b[0m\u001b[0;34m)\u001b[0m\u001b[0;34m\u001b[0m\u001b[0;34m\u001b[0m\u001b[0m\n\u001b[1;32m      3\u001b[0m \u001b[0mc\u001b[0m\u001b[0;34m=\u001b[0m\u001b[0mpx\u001b[0m\u001b[0;34m.\u001b[0m\u001b[0mColumns\u001b[0m\u001b[0;34m(\u001b[0m\u001b[0;34m'o'\u001b[0m\u001b[0;34m)\u001b[0m\u001b[0;34m\u001b[0m\u001b[0;34m\u001b[0m\u001b[0m\n\u001b[1;32m      4\u001b[0m \u001b[0mprint\u001b[0m\u001b[0;34m(\u001b[0m\u001b[0mc\u001b[0m\u001b[0;34m)\u001b[0m\u001b[0;34m\u001b[0m\u001b[0;34m\u001b[0m\u001b[0m\n",
      "\u001b[0;32m~/Documents/Work/PhD/Scripts/Python/PyXstar/pyxstar.py\u001b[0m in \u001b[0;36mColumns\u001b[0;34m(species)\u001b[0m\n\u001b[1;32m    196\u001b[0m     \u001b[0;32mif\u001b[0m \u001b[0mspecies\u001b[0m\u001b[0;34m.\u001b[0m\u001b[0mfind\u001b[0m\u001b[0;34m(\u001b[0m\u001b[0;34m'_'\u001b[0m\u001b[0;34m)\u001b[0m \u001b[0;34m>=\u001b[0m \u001b[0;36m0\u001b[0m\u001b[0;34m:\u001b[0m\u001b[0;34m\u001b[0m\u001b[0;34m\u001b[0m\u001b[0m\n\u001b[1;32m    197\u001b[0m         \u001b[0;32mfor\u001b[0m \u001b[0mi\u001b[0m \u001b[0;32min\u001b[0m \u001b[0mrange\u001b[0m\u001b[0;34m(\u001b[0m\u001b[0;36m9\u001b[0m\u001b[0;34m,\u001b[0m\u001b[0;36m474\u001b[0m\u001b[0;34m)\u001b[0m\u001b[0;34m:\u001b[0m\u001b[0;34m\u001b[0m\u001b[0;34m\u001b[0m\u001b[0m\n\u001b[0;32m--> 198\u001b[0;31m             \u001b[0;32mif\u001b[0m \u001b[0mspecies\u001b[0m \u001b[0;34m==\u001b[0m \u001b[0mhdu1\u001b[0m\u001b[0;34m[\u001b[0m\u001b[0;36m1\u001b[0m\u001b[0;34m]\u001b[0m\u001b[0;34m.\u001b[0m\u001b[0mheader\u001b[0m\u001b[0;34m[\u001b[0m\u001b[0;34m'TTYPE'\u001b[0m\u001b[0;34m+\u001b[0m\u001b[0mstr\u001b[0m\u001b[0;34m(\u001b[0m\u001b[0mi\u001b[0m\u001b[0;34m)\u001b[0m\u001b[0;34m]\u001b[0m\u001b[0;34m:\u001b[0m\u001b[0;34m\u001b[0m\u001b[0;34m\u001b[0m\u001b[0m\n\u001b[0m\u001b[1;32m    199\u001b[0m                 \u001b[0;32mreturn\u001b[0m \u001b[0mhdu1\u001b[0m\u001b[0;34m[\u001b[0m\u001b[0;36m2\u001b[0m\u001b[0;34m]\u001b[0m\u001b[0;34m.\u001b[0m\u001b[0mdata\u001b[0m\u001b[0;34m[\u001b[0m\u001b[0;36m0\u001b[0m\u001b[0;34m]\u001b[0m\u001b[0;34m[\u001b[0m\u001b[0mspecies\u001b[0m\u001b[0;34m]\u001b[0m\u001b[0;34m\u001b[0m\u001b[0;34m\u001b[0m\u001b[0m\n\u001b[1;32m    200\u001b[0m         \u001b[0mprint\u001b[0m\u001b[0;34m(\u001b[0m\u001b[0;34m'*** PyXstar: '\u001b[0m\u001b[0;34m,\u001b[0m\u001b[0mspecies\u001b[0m\u001b[0;34m,\u001b[0m\u001b[0;34m' not listed.'\u001b[0m\u001b[0;34m)\u001b[0m\u001b[0;34m\u001b[0m\u001b[0;34m\u001b[0m\u001b[0m\n",
      "\u001b[0;31mNameError\u001b[0m: name 'hdu1' is not defined"
     ]
    }
   ],
   "source": [
    "c=px.Columns('o_iii')\n",
    "print(c)\n",
    "c=px.Columns('o')\n",
    "print(c)"
   ]
  },
  {
   "cell_type": "markdown",
   "metadata": {},
   "source": [
    "## 7. Heating and Cooling\n",
    "\n",
    "Total heating and cooling or for each individual elemental source and plasma process (Compton and Bremsstrahlung) are respectively obtained with the functions ${\\tt px.Heating}(case)$ and ${\\tt px.Cooling}(case)$. In this instance the $case$ string variable may be \"total\", \"chemical symbol\", \"compton\", or \"brems\". Please run the two cells below and try different options."
   ]
  },
  {
   "cell_type": "code",
   "execution_count": null,
   "metadata": {
    "scrolled": true
   },
   "outputs": [],
   "source": [
    "h=px.Heating('total')\n",
    "print(h)\n",
    "h=px.Heating('o')\n",
    "print(h)\n",
    "h=px.Heating('compton')\n",
    "print(h)"
   ]
  },
  {
   "cell_type": "code",
   "execution_count": null,
   "metadata": {},
   "outputs": [],
   "source": [
    "c=px.Cooling('total')\n",
    "print(c)\n",
    "c=px.Cooling('brems')\n",
    "print(c)"
   ]
  },
  {
   "cell_type": "markdown",
   "metadata": {},
   "source": [
    "## 8. Line Spectra\n",
    "\n",
    "Line attributes in the dataset listing ${\\tt px.NLines}()$ lines are loaded with the ${\\tt px.LineSpectra}()$ class in a dictionary structure, We are currently coding a list of attributes for this class, but it would help to have beforehand some information on how users manipulate the line data. In the cell below the data for the first line is printed. By varying the array index, the data for different lines may be listed.   "
   ]
  },
  {
   "cell_type": "code",
   "execution_count": null,
   "metadata": {},
   "outputs": [],
   "source": [
    "print(px.NLines())\n",
    "a=px.LineSpectra()\n",
    "print(a.lines[0])"
   ]
  },
  {
   "cell_type": "markdown",
   "metadata": {},
   "source": [
    "## 9. Radiative Recombination Spectra\n",
    "\n",
    "Radiative recombination spectra are currently treated in a similar fashion to the line spectrum. The number of edges (?) are obtained from the function ${\\tt px.NRRcPoints}()$, and the class ${\\tt px.LineSpectra}()$ loads a dictionary. An attribute list could be easily coded. Please run the cell below. "
   ]
  },
  {
   "cell_type": "code",
   "execution_count": null,
   "metadata": {},
   "outputs": [],
   "source": [
    "print(px.NRRcPoints())\n",
    "a=px.RRcSpectra()\n",
    "print(a.rrc[0])"
   ]
  },
  {
   "cell_type": "markdown",
   "metadata": {},
   "source": [
    "## 10. Continuum Spectrum\n",
    "\n",
    "The continuum spectra for ${\\tt px.NContPoints}()$ energy points are treated with the ${\\tt px.ContSpectra}()$ class with the following attributes:\n",
    "\n",
    "* energy:\n",
    "* incident:\n",
    "* transmitted:\n",
    "* emit_inward:\n",
    "* emit_outward:\n",
    "\n",
    "In the cell below the number of point is printed, the class is activated, and the first 10 lines of the incident flux are listed. Please run the cell."
   ]
  },
  {
   "cell_type": "code",
   "execution_count": null,
   "metadata": {
    "scrolled": true
   },
   "outputs": [],
   "source": [
    "print(px.NContPoints())\n",
    "x=px.ContSpectra()\n",
    "print(x.emit_outward[:10])"
   ]
  },
  {
   "cell_type": "markdown",
   "metadata": {},
   "source": [
    "In the next cell we use the ${\\tt px.ContSpectra}()$ to plot the transmitted flux.Please change the class attribute in the second line of the loop to display the incident flux. It will not work with the emit_inward and emit_outward fluxes as the loop stores logs."
   ]
  },
  {
   "cell_type": "code",
   "execution_count": null,
   "metadata": {},
   "outputs": [],
   "source": [
    "import matplotlib.pyplot as plt\n",
    "import pyxstar as px\n",
    "\n",
    "x=[]; y=[]\n",
    "\n",
    "spectrum=px.ContSpectra()\n",
    "\n",
    "for i in range(px.NContPoints()):\n",
    "    x.append(math.log10(spectrum.energy[i]))\n",
    "    y.append(math.log10(spectrum.transmitted[i])) \n",
    "    \n",
    "plt.plot(x,y)\n",
    "plt.xlabel('Log(Energy) (eV)',fontsize=15)\n",
    "plt.ylabel('Log(Transmitted Flux) (erg/s)',fontsize=15)\n",
    "plt.tick_params(axis='both',labelsize=15)\n",
    "plt.show"
   ]
  },
  {
   "cell_type": "code",
   "execution_count": null,
   "metadata": {},
   "outputs": [],
   "source": [
    "import matplotlib.pyplot as plt\n",
    "\n",
    "plt.figure()"
   ]
  },
  {
   "cell_type": "code",
   "execution_count": null,
   "metadata": {},
   "outputs": [],
   "source": []
  },
  {
   "cell_type": "code",
   "execution_count": null,
   "metadata": {},
   "outputs": [],
   "source": []
  },
  {
   "cell_type": "code",
   "execution_count": null,
   "metadata": {},
   "outputs": [],
   "source": []
  },
  {
   "cell_type": "code",
   "execution_count": null,
   "metadata": {},
   "outputs": [],
   "source": []
  }
 ],
 "metadata": {
  "kernelspec": {
   "display_name": "Python 3 (ipykernel)",
   "language": "python",
   "name": "python3"
  },
  "language_info": {
   "codemirror_mode": {
    "name": "ipython",
    "version": 3
   },
   "file_extension": ".py",
   "mimetype": "text/x-python",
   "name": "python",
   "nbconvert_exporter": "python",
   "pygments_lexer": "ipython3",
   "version": "3.8.8"
  }
 },
 "nbformat": 4,
 "nbformat_minor": 4
}
